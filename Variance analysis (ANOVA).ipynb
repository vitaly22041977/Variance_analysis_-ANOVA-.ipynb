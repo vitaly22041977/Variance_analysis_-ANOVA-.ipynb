{
 "cells": [
  {
   "cell_type": "markdown",
   "id": "247dfc3b-1d67-479e-a9fd-ccb83b264114",
   "metadata": {},
   "source": [
    "**Загрузите датасет titanic из kaggle (https://www.kaggle.com/datasets/vinicius150987/titanic3) или с локального компьютера. (Data path на Kaggle = 'vinicius150987/titanic3', файл в формате Excel). Загрузите pandas dataframe, используя функцию pd.read_excel(). НЕполный датасет titanic есть также в seaborn.**\n",
    "\n",
    "**Проверьте нуль-гипотезу о том, что средний возраст пассажиров (age) в группах с билетами разных классов (pclass) равен.\n",
    "- Визуализируйте данные (звисимая переменная в трех группах).\n",
    "- Постройте  таблицу ANOVA (используйте тип 2).\n",
    "- Проверьте предположения.\n",
    "- Проведите множественные сравнения, выбрав поправку.\n",
    "- Интерпретируйте результаты статистически и содержательно.\n",
    "- Не забудьте о кознях со стороны миссингов**\n",
    "\n",
    "**Можно выбрать между библиотеками statsmodels и pingouin**\n",
    "\n",
    "**Для тех, кому возраст пассажиров скучен: возьмите другой датафрейм из числа тех, что рассматривались в ноубуке s03a-Сравнение средних, напр., affairs, wcgs и др. Самостоятельно выберите интервальную зависимую переменную и фактор -- независимую переменную (рекомендуется с небольшим количеством уровней). Если клетки таблицы частот (pd.value_counts() ) для \"фактора\" окажутся пусты, придется объединить уровни (см основной ноутбук по этой теме или другие материалы). Все необходимые шаги остаются: визуализация, таблица ANOVA, предположения, множественные сравнения, интерпртетация, подстерегающие миссинги** \n"
   ]
  },
  {
   "cell_type": "code",
   "execution_count": 1,
   "id": "9aa503d6-9294-4281-b7d2-5b80961e7c74",
   "metadata": {},
   "outputs": [],
   "source": [
    "import numpy as np\n",
    "import pandas as pd\n",
    "import statsmodels.formula.api as smf\n",
    "import statsmodels.api as sm\n",
    "import statsmodels.stats.api as sms\n",
    "# from statsmodels.stats.anova import AnovaRM\n",
    "import seaborn as sns\n",
    "import matplotlib.pyplot as plt\n",
    "import statsmodels.stats.multicomp as mc\n",
    "import pingouin as pg\n",
    "from scipy import stats\n"
   ]
  },
  {
   "cell_type": "code",
   "execution_count": 2,
   "id": "3c9a8bea-b8f2-460e-9fc1-0667b0b09f36",
   "metadata": {},
   "outputs": [
    {
     "data": {
      "text/plain": [
       "'C:\\\\Users\\\\Professional\\\\extra_path'"
      ]
     },
     "execution_count": 2,
     "metadata": {},
     "output_type": "execute_result"
    }
   ],
   "source": [
    "%pwd"
   ]
  },
  {
   "cell_type": "code",
   "execution_count": 6,
   "id": "4d16bdab-2db5-4a49-b505-be3bfb87aa45",
   "metadata": {},
   "outputs": [],
   "source": [
    "import os\n",
    "os.environ['vitalysramblerru'] = ''  # указываю свой username\n",
    "os.environ['6020e9edf19ec97a66daad6377176481'] = ''       # указываю свой токен\n",
    "import kaggle\n",
    "kaggle.api.authenticate()"
   ]
  },
  {
   "cell_type": "code",
   "execution_count": 7,
   "id": "b247f1bc-f06d-42ef-972d-b930faa6470a",
   "metadata": {},
   "outputs": [
    {
     "name": "stdout",
     "output_type": "stream",
     "text": [
      "Dataset URL: https://www.kaggle.com/datasets/vinicius150987/titanic3\n"
     ]
    }
   ],
   "source": [
    "# Загрузка датасета Titanic\n",
    "dataset_url = 'vinicius150987/titanic3'  # URL датасета\n",
    "kaggle.api.dataset_download_files(dataset_url, path='.', unzip=True)  # Загрузка и распаковка"
   ]
  },
  {
   "cell_type": "code",
   "execution_count": 8,
   "id": "62db611a-a0c5-491c-8fc2-50aadade9cb8",
   "metadata": {},
   "outputs": [
    {
     "data": {
      "text/html": [
       "<div>\n",
       "<style scoped>\n",
       "    .dataframe tbody tr th:only-of-type {\n",
       "        vertical-align: middle;\n",
       "    }\n",
       "\n",
       "    .dataframe tbody tr th {\n",
       "        vertical-align: top;\n",
       "    }\n",
       "\n",
       "    .dataframe thead th {\n",
       "        text-align: right;\n",
       "    }\n",
       "</style>\n",
       "<table border=\"1\" class=\"dataframe\">\n",
       "  <thead>\n",
       "    <tr style=\"text-align: right;\">\n",
       "      <th></th>\n",
       "      <th>pclass</th>\n",
       "      <th>survived</th>\n",
       "      <th>name</th>\n",
       "      <th>sex</th>\n",
       "      <th>age</th>\n",
       "      <th>sibsp</th>\n",
       "      <th>parch</th>\n",
       "      <th>ticket</th>\n",
       "      <th>fare</th>\n",
       "      <th>cabin</th>\n",
       "      <th>embarked</th>\n",
       "      <th>boat</th>\n",
       "      <th>body</th>\n",
       "      <th>home.dest</th>\n",
       "    </tr>\n",
       "  </thead>\n",
       "  <tbody>\n",
       "    <tr>\n",
       "      <th>0</th>\n",
       "      <td>1</td>\n",
       "      <td>1</td>\n",
       "      <td>Allen, Miss. Elisabeth Walton</td>\n",
       "      <td>female</td>\n",
       "      <td>29.0000</td>\n",
       "      <td>0</td>\n",
       "      <td>0</td>\n",
       "      <td>24160</td>\n",
       "      <td>211.3375</td>\n",
       "      <td>B5</td>\n",
       "      <td>S</td>\n",
       "      <td>2</td>\n",
       "      <td>NaN</td>\n",
       "      <td>St Louis, MO</td>\n",
       "    </tr>\n",
       "    <tr>\n",
       "      <th>1</th>\n",
       "      <td>1</td>\n",
       "      <td>1</td>\n",
       "      <td>Allison, Master. Hudson Trevor</td>\n",
       "      <td>male</td>\n",
       "      <td>0.9167</td>\n",
       "      <td>1</td>\n",
       "      <td>2</td>\n",
       "      <td>113781</td>\n",
       "      <td>151.5500</td>\n",
       "      <td>C22 C26</td>\n",
       "      <td>S</td>\n",
       "      <td>11</td>\n",
       "      <td>NaN</td>\n",
       "      <td>Montreal, PQ / Chesterville, ON</td>\n",
       "    </tr>\n",
       "    <tr>\n",
       "      <th>2</th>\n",
       "      <td>1</td>\n",
       "      <td>0</td>\n",
       "      <td>Allison, Miss. Helen Loraine</td>\n",
       "      <td>female</td>\n",
       "      <td>2.0000</td>\n",
       "      <td>1</td>\n",
       "      <td>2</td>\n",
       "      <td>113781</td>\n",
       "      <td>151.5500</td>\n",
       "      <td>C22 C26</td>\n",
       "      <td>S</td>\n",
       "      <td>NaN</td>\n",
       "      <td>NaN</td>\n",
       "      <td>Montreal, PQ / Chesterville, ON</td>\n",
       "    </tr>\n",
       "  </tbody>\n",
       "</table>\n",
       "</div>"
      ],
      "text/plain": [
       "   pclass  survived                            name     sex      age  sibsp  \\\n",
       "0       1         1   Allen, Miss. Elisabeth Walton  female  29.0000      0   \n",
       "1       1         1  Allison, Master. Hudson Trevor    male   0.9167      1   \n",
       "2       1         0    Allison, Miss. Helen Loraine  female   2.0000      1   \n",
       "\n",
       "   parch  ticket      fare    cabin embarked boat  body  \\\n",
       "0      0   24160  211.3375       B5        S    2   NaN   \n",
       "1      2  113781  151.5500  C22 C26        S   11   NaN   \n",
       "2      2  113781  151.5500  C22 C26        S  NaN   NaN   \n",
       "\n",
       "                         home.dest  \n",
       "0                     St Louis, MO  \n",
       "1  Montreal, PQ / Chesterville, ON  \n",
       "2  Montreal, PQ / Chesterville, ON  "
      ]
     },
     "execution_count": 8,
     "metadata": {},
     "output_type": "execute_result"
    }
   ],
   "source": [
    "# Определяем имя файла (предполагаем, что это xls)\n",
    "file_name = 'titanic3.xls'  # Убедитесь, что имя файла соответствует загруженному\n",
    "\n",
    "# Загружаем данные в DataFrame\n",
    "df = pd.read_excel(file_name)  # Используем read_excel для чтения файла\n",
    "\n",
    "# Открываем первые пять строк\n",
    "df.head(3)"
   ]
  },
  {
   "cell_type": "code",
   "execution_count": 9,
   "id": "f97dafb9-7202-4798-a1ac-bf9644ad9e9b",
   "metadata": {},
   "outputs": [
    {
     "name": "stdout",
     "output_type": "stream",
     "text": [
      "pclass          0\n",
      "survived        0\n",
      "name            0\n",
      "sex             0\n",
      "age           263\n",
      "sibsp           0\n",
      "parch           0\n",
      "ticket          0\n",
      "fare            1\n",
      "cabin        1014\n",
      "embarked        2\n",
      "boat          823\n",
      "body         1188\n",
      "home.dest     564\n",
      "dtype: int64\n"
     ]
    }
   ],
   "source": [
    "# Проверка на пропуски\n",
    "missing_data = df.isnull().sum()\n",
    "print(missing_data)"
   ]
  },
  {
   "cell_type": "code",
   "execution_count": 10,
   "id": "75d38a23-abd1-47ab-884e-fad57a1c6fe7",
   "metadata": {},
   "outputs": [
    {
     "data": {
      "image/png": "[encoded data removed]",
      "text/plain": [
       "<Figure size 640x480 with 1 Axes>"
      ]
     },
     "metadata": {},
     "output_type": "display_data"
    }
   ],
   "source": [
    "# Визуализация распределения возраста пассажиров по классам\n",
    "sns.boxplot(x='pclass', y='age', data=df)\n",
    "plt.title('Возраст пассажиров по классам билетов')\n",
    "plt.show()"
   ]
  },
  {
   "cell_type": "markdown",
   "id": "cba115aa-d747-4ee4-85cd-db94865b427f",
   "metadata": {},
   "source": [
    "### Анализ дисперсии (ANOVA)\n",
    "для проверки нуль-гипотезы о том, что средний возраст пассажиров в группах с билетами разных классов равен"
   ]
  },
  {
   "cell_type": "code",
   "execution_count": 12,
   "id": "99555378-b603-4fbf-935a-008bf14a0530",
   "metadata": {},
   "outputs": [
    {
     "name": "stdout",
     "output_type": "stream",
     "text": [
      "                  sum_sq      df           F        PR(>F)\n",
      "C(pclass)   37339.390553     2.0  108.325978  1.797203e-43\n",
      "Residual   179758.286859  1043.0         NaN           NaN\n"
     ]
    }
   ],
   "source": [
    "from statsmodels.formula.api import ols\n",
    "\n",
    "# Удаление строк с пропусками в age и pclass\n",
    "df_clean = df.dropna(subset=['age', 'pclass'])\n",
    "\n",
    "# Построение модели\n",
    "model = ols('age ~ C(pclass)', data=df_clean).fit()\n",
    "anova_table = sm.stats.anova_lm(model, typ=2)\n",
    "print(anova_table)"
   ]
  },
  {
   "cell_type": "markdown",
   "id": "fd14f412-ae45-4bf7-854f-931d692f3233",
   "metadata": {},
   "source": [
    "####\n",
    "Значимость различий:\n",
    "\n",
    "F-статистика: Значение F (108.33) указывает на то, что вариация между группами (в данном случае, классами пассажиров) значительно превышает вариацию внутри групп. Это говорит о том, что классы пассажиров имеют разные средние значения по рассматриваемой переменной.\n",
    "\n",
    "p-value: Значение p-value (1.7972e-43) крайне мало и значительно меньше стандартного уровня значимости (0.05). Это означает, что мы отвергаем нулевую гипотезу, которая утверждает, что средние значения всех классов пассажиров равны.\n",
    "\n",
    "Выводы:\n",
    "На основании результатов ANOVA можно заключить, что существуют значимые различия между средними значениями по классам пассажиров на Титанике. Это может указывать на то, что класс пассажира (например, 1-й, 2-й или 3-й) влияет на рассматриваемую переменную (например, выживаемость)."
   ]
  },
  {
   "cell_type": "markdown",
   "id": "525e3203-e36f-46a4-bc85-636e7a212ff9",
   "metadata": {},
   "source": [
    "#### Для проверки предположений ANOVA (нормальность и гомогенность дисперсий) можно использовать тесты Шапиро-Уилка и Левена:"
   ]
  },
  {
   "cell_type": "code",
   "execution_count": 13,
   "id": "00f70476-9904-46b3-80dd-eb63d0290a04",
   "metadata": {},
   "outputs": [
    {
     "name": "stdout",
     "output_type": "stream",
     "text": [
      "Тест Шапиро-Уилка: ShapiroResult(statistic=np.float64(0.9795478899942606), pvalue=np.float64(5.749827483537655e-11))\n",
      "Тест Левена: LeveneResult(statistic=np.float64(12.572361659703366), pvalue=np.float64(4.024111527944504e-06))\n"
     ]
    }
   ],
   "source": [
    "from scipy import stats\n",
    "\n",
    "# Тест Шапиро-Уилка для нормальности\n",
    "shapiro_test = stats.shapiro(df_clean['age'])\n",
    "print('Тест Шапиро-Уилка:', shapiro_test)\n",
    "\n",
    "# Тест Левена для гомогенности дисперсий\n",
    "levene_test = stats.levene(df_clean[df_clean['pclass'] == 1]['age'],\n",
    "                            df_clean[df_clean['pclass'] == 2]['age'],\n",
    "                            df_clean[df_clean['pclass'] == 3]['age'])\n",
    "print('Тест Левена:', levene_test)"
   ]
  },
  {
   "cell_type": "markdown",
   "id": "d04bff97-fa12-4522-b9f4-d58fa3e4c36f",
   "metadata": {},
   "source": [
    "#### \n",
    "Тест Шапиро-Уилка используется для проверки гипотезы о нормальности распределения данных. Нулевая гипотеза (H0) утверждает, что данные распределены нормально. В данном случае, полученное значение статистики (0.9795) близко к 1, что обычно указывает на нормальность, но p-value (5.7498e-11) значительно меньше стандартного уровня значимости (например, 0.05). Это означает, что мы отвергаем нулевую гипотезу и можем заключить, что данные не распределены нормально.\n",
    "\n",
    "Тест Левена используется для проверки равенства дисперсий между двумя или более группами. Нулевая гипотеза (H0) утверждает, что дисперсии равны. В данном случае, значение статистики (12.5724) указывает на значительное различие между дисперсиями, а p-value (4.0241e-06) также значительно меньше 0.05. Это позволяет отвергнуть нулевую гипотезу, что говорит о том, что дисперсии между группами различаются."
   ]
  },
  {
   "cell_type": "code",
   "execution_count": 14,
   "id": "f18f027a-1c2f-4ea4-bba2-ab41c6e9ce84",
   "metadata": {},
   "outputs": [
    {
     "name": "stdout",
     "output_type": "stream",
     "text": [
      " Multiple Comparison of Means - Tukey HSD, FWER=0.05 \n",
      "=====================================================\n",
      "group1 group2 meandiff p-adj  lower    upper   reject\n",
      "-----------------------------------------------------\n",
      "     1      2  -9.6532   0.0 -12.2953  -7.0111   True\n",
      "     1      3 -14.3436   0.0 -16.6322 -12.0549   True\n",
      "     2      3  -4.6903   0.0  -7.0425  -2.3382   True\n",
      "-----------------------------------------------------\n"
     ]
    }
   ],
   "source": [
    "# Поскольку ANOVA показывает значимые различия, проведем множественные сравнения с поправкой Тьюки:\n",
    "from statsmodels.stats.multicomp import pairwise_tukeyhsd\n",
    "\n",
    "# Множественные сравнения\n",
    "tukey = pairwise_tukeyhsd(endog=df_clean['age'], groups=df_clean['pclass'], alpha=0.05)\n",
    "print(tukey)"
   ]
  },
  {
   "cell_type": "markdown",
   "id": "e3fd7616-a75d-408b-80f1-ac1eb85fbdae",
   "metadata": {},
   "source": [
    "#### Результаты теста Тьюки HSD (Honestly Significant Difference) показывают, что мы сравниваем средние значения возраста пассажиров в разных классах билетов (pclass). \n",
    "\n",
    "Основные выводы:\n",
    "\n",
    "Сравнение классов 1 и 2:\n",
    "meandiff: Средний возраст пассажиров в классе 1 на 9.65 лет старше, чем в классе 2.\n",
    "p-adj: Значение p меньше 0.05, что указывает на статистически значимую разницу между этими группами.\n",
    "reject: Мы отвергаем нуль-гипотезу, что средние значения возраста в этих группах равны.\n",
    "\n",
    "Сравнение классов 1 и 3:\n",
    "meandiff: Средний возраст пассажиров в классе 1 на 14.34 года старше, чем в классе 3.\n",
    "p-adj: Значение p также меньше 0.05, что подтверждает статистическую значимость.\n",
    "reject: Мы отвергаем нуль-гипотезу для этого сравнения.\n",
    "\n",
    "Сравнение классов 2 и 3:\n",
    "meandiff: Средний возраст пассажиров в классе 2 на 4.69 года больше, чем в классе 3.\n",
    "p-adj: Значение p меньше 0.05, что указывает на статистически значимую разницу.\n",
    "reject: Мы также отвергаем нуль-гипотезу для этого сравнения.\n",
    "\n",
    "\n",
    "Общая интерпретация:\n",
    "\n",
    "Все три сравнения показывают, что существует статистически значимая разница в среднем возрасте пассажиров между классами билетов. Пассажиры первого класса, как правило, старше, чем пассажиры второго и третьего классов. Это может указывать на то, что более состоятельные пассажиры (первый класс) имеют тенденцию быть старше, чем пассажиры, выбирающие более дешевые классы.\n",
    "\n",
    "\n",
    "Заключение:\n",
    "\n",
    "Результаты теста Тьюки HSD подтверждают, что возраст пассажиров Титаника различается в зависимости от класса билета. Это может быть важным аспектом для дальнейшего анализа, например, в контексте социально-экономических факторов, влияющих на выбор класса билета."
   ]
  },
  {
   "cell_type": "code",
   "execution_count": null,
   "id": "05f204ac-fd36-42a2-9d2c-90b5980271f2",
   "metadata": {},
   "outputs": [],
   "source": []
  }
 ],
 "metadata": {
  "kernelspec": {
   "display_name": "Python 3 (ipykernel)",
   "language": "python",
   "name": "python3"
  },
  "language_info": {
   "codemirror_mode": {
    "name": "ipython",
    "version": 3
   },
   "file_extension": ".py",
   "mimetype": "text/x-python",
   "name": "python",
   "nbconvert_exporter": "python",
   "pygments_lexer": "ipython3",
   "version": "3.13.2"
  }
 },
 "nbformat": 4,
 "nbformat_minor": 5
}
